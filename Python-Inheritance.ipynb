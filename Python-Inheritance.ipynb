{
 "cells": [
  {
   "cell_type": "code",
   "execution_count": 1,
   "id": "a530c910",
   "metadata": {},
   "outputs": [
    {
     "name": "stdout",
     "output_type": "stream",
     "text": [
      "10\n",
      "10\n"
     ]
    }
   ],
   "source": [
    "class Player:\n",
    "    max_position = 10     # Class attribute   \n",
    "    def __init__(self):\n",
    "        self.position = 0 \n",
    "print(Player.max_position)    \n",
    "p = Player()\n",
    "print(p.max_position)\n",
    "#the output would be same as 10 because although we are creating a instance of the class we are not changing the attribute"
   ]
  },
  {
   "cell_type": "code",
   "execution_count": 1,
   "id": "93662e1b",
   "metadata": {},
   "outputs": [
    {
     "name": "stdout",
     "output_type": "stream",
     "text": [
      "p_1 Speed: 10\n",
      "p_1 Speed: 20\n",
      "p_1 Speed after changing: 7\n",
      "p_1 Speed: 20\n"
     ]
    }
   ],
   "source": [
    "class p1():\n",
    "    Max_speed=10\n",
    "    \n",
    "class p2():\n",
    "    Max_speed=20\n",
    "    \n",
    "       \n",
    "p_1=p1()  \n",
    "p_2=p2()\n",
    "print(\"p_1 Speed:\",p_1.Max_speed)\n",
    "print(\"p_1 Speed:\",p_2.Max_speed)\n",
    "p_1.Max_speed=7\n",
    "print(\"p_1 Speed after changing:\",p_1.Max_speed)\n",
    "print(\"p_1 Speed:\",p_2.Max_speed)\n",
    "\n",
    "    "
   ]
  },
  {
   "cell_type": "code",
   "execution_count": 4,
   "id": "1c0d431c",
   "metadata": {},
   "outputs": [
    {
     "name": "stdout",
     "output_type": "stream",
     "text": [
      "Manager: Yaswanth\n",
      "Salary: 51050.0\n",
      "Salary after raise: 61050.0\n"
     ]
    }
   ],
   "source": [
    "class Employee:\n",
    "    \n",
    "    def __init__(self, name, salary=20000):\n",
    "        self.name = name\n",
    "        self.salary = salary\n",
    "    def give_raise(self, amount):\n",
    "        self.salary += amount  \n",
    "        \n",
    "        \n",
    "class Manager(Employee):\n",
    "    \n",
    "    def display(self):\n",
    "        print(\"Manager:\", self.name)\n",
    "    def __init__(self, name, salary=50000, project=None):\n",
    "        Employee.__init__(self, name, salary)\n",
    "        self.project = project\n",
    "    def give_raise(self, amount, bonus=1.05): \n",
    "        new_amount = amount * bonus\n",
    "        Employee.give_raise(self, new_amount) \n",
    "        \n",
    "mngr = Manager(\"Yaswanth\", 50000)\n",
    "mngr.display()\n",
    "mngr.give_raise(1000)\n",
    "print(\"Salary:\",mngr.salary)\n",
    "mngr.give_raise(5000, bonus=2)\n",
    "print(\"Salary after raise:\",mngr.salary)"
   ]
  },
  {
   "cell_type": "code",
   "execution_count": 5,
   "id": "d234a411",
   "metadata": {},
   "outputs": [
    {
     "name": "stdout",
     "output_type": "stream",
     "text": [
      "2021\n",
      "9\n",
      "8\n"
     ]
    }
   ],
   "source": [
    "# Problem 4: Alternative Constructor \n",
    "class MyDate:\n",
    "    def __init__(self, year, month, day):     # Constructor\n",
    "      # Python allows multiple variable assignments in one line\n",
    "      self.year, self.month, self.day = year, month, day    \n",
    "    # Define a class method from_str\n",
    "    @classmethod\n",
    "    def from_str(cls, datestr):\n",
    "    # Split the string at \"-\" and  convert each part to integer\n",
    "        parts = datestr.split(\"-\")\n",
    "        year, month, day = int(parts[0]), int(parts[1]), int(parts[2])\n",
    "        return cls(year, month, day)       # Return the class instance  \n",
    "bd = MyDate.from_str('2021-09-08')   \n",
    "print(bd.year)\n",
    "print(bd.month)\n",
    "print(bd.day)"
   ]
  },
  {
   "cell_type": "code",
   "execution_count": 6,
   "id": "25a82590",
   "metadata": {},
   "outputs": [
    {
     "name": "stdout",
     "output_type": "stream",
     "text": [
      "Yaswanth\n"
     ]
    }
   ],
   "source": [
    "# Problem 5 : Define a subclass \n",
    "class Employee:\n",
    "  MIN_SALARY = 30000    \n",
    "  def __init__(self, name, salary=MIN_SALARY):\n",
    "      self.name = name\n",
    "      if salary >= Employee.MIN_SALARY:\n",
    "        self.salary = salary\n",
    "      else:\n",
    "        self.salary = Employee.MIN_SALARY\n",
    "  def give_raise(self, amount):\n",
    "      self.salary += amount        \n",
    "# Define a new class Manager inheriting from Employee\n",
    "class Manager(Employee):\n",
    "  pass\n",
    "# Define a Manager object or child class \n",
    "mng = Manager(\"Yaswanth\",25000)\n",
    "print(mng.name)"
   ]
  },
  {
   "cell_type": "code",
   "execution_count": 9,
   "id": "0a68819a",
   "metadata": {},
   "outputs": [
    {
     "name": "stdout",
     "output_type": "stream",
     "text": [
      "Manager  Yaswanth\n"
     ]
    }
   ],
   "source": [
    "#Method inheritance\n",
    "class Employee:\n",
    "    def __init__(self, name, salary=30000):\n",
    "        self.name = name\n",
    "        self.salary = salary\n",
    "    def give_raise(self, amount):\n",
    "        self.salary += amount       \n",
    "class Manager(Employee):\n",
    "  # Add a constructor \n",
    "    def __init__(self, name, salary=50000, project=None):\n",
    "        Employee.__init__(self, name, salary) # Call the parent's constructor \n",
    "        self.project = project      # Assign project attribute\n",
    "    def display(self):\n",
    "        print(\"Manager \", self.name)\n",
    "        \n",
    "mng=Manager(\"Yaswanth\",45000,\"ciso\")\n",
    "mng.display()"
   ]
  },
  {
   "cell_type": "markdown",
   "id": "cc8c3335",
   "metadata": {},
   "source": [
    "# P1 - what will happen if you try to assign another value to a class attribute when accessing it from an instance?\n",
    "\n",
    "# solu.)The previous  value will be overwritten and the new value will be stored, only for that instance and not for other instances of that class"
   ]
  }
 ],
 "metadata": {
  "kernelspec": {
   "display_name": "Python 3",
   "language": "python",
   "name": "python3"
  },
  "language_info": {
   "codemirror_mode": {
    "name": "ipython",
    "version": 3
   },
   "file_extension": ".py",
   "mimetype": "text/x-python",
   "name": "python",
   "nbconvert_exporter": "python",
   "pygments_lexer": "ipython3",
   "version": "3.8.8"
  }
 },
 "nbformat": 4,
 "nbformat_minor": 5
}
