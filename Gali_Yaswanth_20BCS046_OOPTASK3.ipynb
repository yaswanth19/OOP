{
 "cells": [
  {
   "cell_type": "markdown",
   "id": "69745799",
   "metadata": {},
   "source": [
    "Write a python program to demonstrate the inheritance principle of OOP. Create a Student class that includes student’s basic information : Name, Reg no, Age, Gender, Branch, Sem. Define functions to read and display basic information. Create a new class StudentResultInfo that inherits from Student class. Derived class will include student’s total marks, percentage and grade. Display student’s basic information and result information using derived class.\n"
   ]
  },
  {
   "cell_type": "code",
   "execution_count": 8,
   "id": "3a5b8291",
   "metadata": {},
   "outputs": [
    {
     "name": "stdout",
     "output_type": "stream",
     "text": [
      "Marks:[86, 93, 90, 79, 85]\n",
      "Percentage:87%\n",
      "Grade:A2\n",
      "\n",
      "Name:Rahul\n",
      "Roll Number:56\n",
      "Branch:Cse\n",
      "Gender:Male\n",
      "Age20\n"
     ]
    }
   ],
   "source": [
    "class Student():\n",
    "    def __init__(self,name,age,sem,branch,roll_num,gender):\n",
    "        self.Name=name\n",
    "        self.Roll_num=roll_num\n",
    "        self.branch=branch\n",
    "        self.age=age\n",
    "        self.gender=gender\n",
    "        \n",
    "    def getinfo(self):\n",
    "        print(\"Name:{0}\\nRoll Number:{1}\\nBranch:{2}\\nGender:{3}\\nAge{4}\".format(self.Name,self.Roll_num,self.branch,self.gender,self.age))\n",
    "              \n",
    "class StudentResultInfo(Student):\n",
    "    \n",
    "    def __init__(self):\n",
    "        Student.__init__(self,'Rahul',20,3,'Cse',56,'Male')\n",
    "        self.marks=[86,93,90,79,85]\n",
    "        self.percentage=\"87%\"\n",
    "        self.grade=\"A2\"\n",
    "        \n",
    "        \n",
    "    def getresult(self):\n",
    "        print(\"Marks:{0}\\nPercentage:{1}\\nGrade:{2}\\n\".format(self.marks,self.percentage,self.grade))\n",
    "        \n",
    "Rahul=StudentResultInfo()\n",
    "Rahul.getresult()\n",
    "Rahul.getinfo()\n",
    "              \n",
    "              "
   ]
  },
  {
   "cell_type": "markdown",
   "id": "0252981a",
   "metadata": {},
   "source": [
    "Create vehicle class with data member’s name, mileage and capacity and member function bus fare.  Create a Bus child class that inherits from the Vehicle class. The default fare charge of any vehicle is seating capacity * 100. If Vehicle is Bus instance, we need to add an extra 10% on full fare as a maintenance charge. So total fare for bus instance will become the final amount = total fare + 10% of the total fare.\n",
    "Note: The bus seating capacity is 50. "
   ]
  },
  {
   "cell_type": "code",
   "execution_count": 5,
   "id": "efe61708",
   "metadata": {},
   "outputs": [
    {
     "name": "stdout",
     "output_type": "stream",
     "text": [
      "Total Bus fare is: 5500.0\n"
     ]
    }
   ],
   "source": [
    "class Vehicle:\n",
    "    def __init__(self, name, mileage, capacity):\n",
    "        self.name = name\n",
    "        self.mileage = mileage\n",
    "        self.capacity = capacity\n",
    "\n",
    "    def fare(self):\n",
    "        return self.capacity * 100\n",
    "\n",
    "class Bus(Vehicle):\n",
    "    def fare(self):\n",
    "        bus_fare= super().fare()\n",
    "        bus_fare+= bus_fare/ 10\n",
    "        return bus_fare\n",
    "\n",
    "bus = Bus(\"Volvo\",20,50)\n",
    "print(\"Total Bus fare is:\",bus.fare())"
   ]
  },
  {
   "cell_type": "markdown",
   "id": "ccfb4eda",
   "metadata": {},
   "source": [
    "Imagine you're writing a Content Management system - this system will store two types of documents.\n",
    "PDFs (who created, description, file size)\n",
    "Pictures (who created, description, image dimensions, file size)\n",
    "Imagine you're now asked to add a few features:\n",
    "    Checking to see whether the file size is beyond a certain threshold.\n",
    "    Display the details of document.\n",
    "    Checking to see whether it's too high of dimension of picture.\n",
    "Note: use inheritance concept to reduce length of code.\n"
   ]
  },
  {
   "cell_type": "code",
   "execution_count": 19,
   "id": "bd89c10c",
   "metadata": {},
   "outputs": [
    {
     "name": "stdout",
     "output_type": "stream",
     "text": [
      "Made by:Ian Goodfellow\n",
      "Description:A Deep learning book\n",
      "File size(in MB):15.6\n",
      "\n",
      "Pdf's size is within the threshold limit\n",
      "\n",
      "Made by:Yaswanth\n",
      "Description:Home\n",
      "File size(in MB):1.4\n",
      "\n",
      "Dimensions (in px): 1440\n",
      "The picture's dimension is within limit\n"
     ]
    }
   ],
   "source": [
    "class PDF:\n",
    "  def __init__(self, name, description, size):\n",
    "    self.name = name\n",
    "    self.size = size\n",
    "    self.description = description\n",
    "\n",
    "  def getinfo(self):\n",
    "    print(\"Made by:{0}\\nDescription:{1}\\nFile size(in MB):{2}\\n\".format(self.name,self.description,self.size))\n",
    "\n",
    "  def limit(self):\n",
    "    if self.size < 20:  #limit=20MB\n",
    "        print(\"Pdf's size is within the threshold limit\")\n",
    "    else:\n",
    "        print(\"Pdf's size exceeds threshold\")\n",
    "      \n",
    "\n",
    "class Pictures(PDF):\n",
    "  def __init__(self, name, description, size, dimensions):\n",
    "    super().__init__(name, description, size)\n",
    "    self.dimensions = dimensions\n",
    "\n",
    "  def getpicinfo(self):\n",
    "    self.getinfo()\n",
    "    print(\"Dimensions (in px):\", self.dimensions)\n",
    "\n",
    "  def dimensionlimit(self):\n",
    "    if self.dimensions<1500:   #limit=1500px\n",
    "        print(\"The picture's dimension is within limit\")\n",
    "    else:\n",
    "        print(\"The picture is HD\")\n",
    "      \n",
    "\n",
    "pdf = PDF(\"Ian Goodfellow\", \"A Deep learning book\",15.6 )\n",
    "pdf.getinfo()\n",
    "pdf.limit()\n",
    "print()\n",
    "img = Pictures(\"Yaswanth\", \"Home\", 1.4, 1440)\n",
    "img.getpicinfo()\n",
    "img.dimensionlimit()"
   ]
  }
 ],
 "metadata": {
  "kernelspec": {
   "display_name": "Python 3",
   "language": "python",
   "name": "python3"
  },
  "language_info": {
   "codemirror_mode": {
    "name": "ipython",
    "version": 3
   },
   "file_extension": ".py",
   "mimetype": "text/x-python",
   "name": "python",
   "nbconvert_exporter": "python",
   "pygments_lexer": "ipython3",
   "version": "3.8.8"
  }
 },
 "nbformat": 4,
 "nbformat_minor": 5
}
