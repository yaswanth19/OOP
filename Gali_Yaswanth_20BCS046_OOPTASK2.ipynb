{
 "cells": [
  {
   "cell_type": "markdown",
   "id": "c81c1b13",
   "metadata": {},
   "source": [
    "1.)  Create a python class circle, constructed by a radius and two methods that will compute the area and the perimeter of a circle.\n"
   ]
  },
  {
   "cell_type": "code",
   "execution_count": 12,
   "id": "8f55786d",
   "metadata": {},
   "outputs": [
    {
     "name": "stdout",
     "output_type": "stream",
     "text": [
      "62.800000000000004\n",
      "314.0\n"
     ]
    }
   ],
   "source": [
    "class Circle():\n",
    "    def __init__(self,r):\n",
    "        self.radius=r\n",
    "    def perimetre(self):\n",
    "        return self.radius*2*3.14\n",
    "    def area(self):\n",
    "        return self.radius**2*3.14\n",
    "    \n",
    "Arc=Circle(10)\n",
    "print(Arc.perimetre())\n",
    "print(Arc.area())"
   ]
  },
  {
   "cell_type": "markdown",
   "id": "c47603b6",
   "metadata": {},
   "source": [
    "2.) Write a python program to enter the data of a 5 teaching faculty and display it. (Data of a Faculty: Name, Emp ID, Branch, Salary).\n"
   ]
  },
  {
   "cell_type": "code",
   "execution_count": 22,
   "id": "e9a48b73",
   "metadata": {},
   "outputs": [
    {
     "name": "stdout",
     "output_type": "stream",
     "text": [
      " Name:Rishab \n",
      " Emp Id: 34 \n",
      " Branch: CSE \n",
      " Salary:55000 \n",
      " \n",
      " Name:Rahul \n",
      " Emp Id: 31 \n",
      " Branch: ECE \n",
      " Salary:40000 \n",
      " \n",
      " Name:Ram \n",
      " Emp Id: 12 \n",
      " Branch: DSAI \n",
      " Salary:60000 \n",
      " \n",
      " Name:Rohit \n",
      " Emp Id: 19 \n",
      " Branch: CSE \n",
      " Salary:56500 \n",
      " \n",
      " Name:Ranjit \n",
      " Emp Id: 62 \n",
      " Branch: ECE \n",
      " Salary:43200 \n",
      " \n"
     ]
    }
   ],
   "source": [
    "class Faculty():\n",
    "    def __init__(self,name,Id,branch,salary):\n",
    "        self.Name=name\n",
    "        self.Id=Id\n",
    "        self.Branch=branch\n",
    "        self.Salary=salary\n",
    "    def get_info(self):\n",
    "        print(\" Name:{0} \\n Emp Id: {1} \\n Branch: {2} \\n Salary:{3} \\n \".format(self.Name,self.Id,self.Branch,self.Salary))\n",
    "A=Faculty('Rishab',34,'CSE',55000)\n",
    "B=Faculty('Rahul',31,'ECE',40000)\n",
    "C=Faculty('Ram',12,'DSAI',60000)\n",
    "D=Faculty(\"Rohit\",19,'CSE',56500)\n",
    "E=Faculty(\"Ranjit\",62,'ECE',43200)\n",
    "\n",
    "A.get_info()\n",
    "B.get_info()\n",
    "C.get_info()\n",
    "D.get_info()\n",
    "E.get_info()"
   ]
  },
  {
   "cell_type": "markdown",
   "id": "6942d3c4",
   "metadata": {},
   "source": [
    "3.) Write a python program to demonstrate the working of the banking system.\n",
    "      Create account class with data members (Account No, Account holder name,Amount)\n",
    "      \n",
    "      Create constructor to initialize data members.\n",
    "      \n",
    "      Create member functions (Deposit, withdraw, check balance, and display  account details)\n"
   ]
  },
  {
   "cell_type": "code",
   "execution_count": 38,
   "id": "0a1542ea",
   "metadata": {},
   "outputs": [
    {
     "name": "stdout",
     "output_type": "stream",
     "text": [
      "Enter amount to be deposited: 25000\n",
      "\n",
      "Amount Deposited: 25000.0\n",
      "Enter the amount to withdraw:5500\n",
      "\n",
      "Amount Withdrawan:  5500.0\n",
      "\n",
      "Balance Amount: 9122500.45\n",
      "\n",
      "\n",
      "Account No:ICICI005678282\n",
      "Account Holder Name:Pranav\n",
      "Amount (Rs):9122500.45\n",
      "\n"
     ]
    }
   ],
   "source": [
    "class Account():\n",
    "    def __init__(self,Account_No, Account_holder,Amount):\n",
    "        self.account_num=Account_No\n",
    "        self.account_holder=Account_holder\n",
    "        self.balance=Amount\n",
    "        \n",
    "    def deposit(self):\n",
    "        amount = float(input(\"Enter amount to be deposited: \"))\n",
    "        self.balance += amount\n",
    "        print(\"\\nAmount Deposited:\", amount)\n",
    "    def withdraw(self):\n",
    "        amount=float(input(\"Enter the amount to withdraw:\"))\n",
    "        print(\"\\nAmount Withdrawan: \",amount)\n",
    "        self.balance-=amount\n",
    "       \n",
    "    def check_balance(self):\n",
    "        print(\"\\nBalance Amount:\",self.balance)\n",
    "        \n",
    "    def getinfo(self):\n",
    "        print(\"\\n\\nAccount No:{0}\\nAccount Holder Name:{1}\\nAmount (Rs):{2}\\n\".format(self.account_num,self.account_holder,self.balance))\n",
    "        \n",
    "        \n",
    "pranav=Account(\"ICICI005678282\",\"Pranav\",9103000.45) \n",
    "pranav.deposit()\n",
    "pranav.withdraw()\n",
    "pranav.check_balance()\n",
    "pranav.getinfo()"
   ]
  },
  {
   "cell_type": "markdown",
   "id": "dbe855d3",
   "metadata": {},
   "source": [
    "4.)Write a python program to store and display the student name, USN, and marks of a student. Use the list to store the marks of a student in three subjects."
   ]
  },
  {
   "cell_type": "code",
   "execution_count": 53,
   "id": "1d266625",
   "metadata": {},
   "outputs": [
    {
     "name": "stdout",
     "output_type": "stream",
     "text": [
      "Enter the marks in 1 subject:76\n",
      "Enter the marks in 2 subject:81\n",
      "Enter the marks in 3 subject:89\n",
      "Name:Rahul\n",
      "USN ID:46\n",
      "Rahul got  [76, 81, 89]\n",
      "Enter the marks in 1 subject:65\n",
      "Enter the marks in 2 subject:45\n",
      "Enter the marks in 3 subject:93\n",
      "Name:Ajay\n",
      "USN ID:11\n",
      "Ajay got  [65, 45, 93]\n"
     ]
    }
   ],
   "source": [
    "class Student():\n",
    "    def __init__(self,name,usn):\n",
    "        self.Name=name\n",
    "        self.USN=usn\n",
    "        self.marks=[]\n",
    "        \n",
    "        \n",
    "    def Marks(self):\n",
    "        for i in range(3):\n",
    "            m=int(input(\"Enter the marks in %d subject:\"%(i+1)))\n",
    "            self.marks.append(m)\n",
    "            \n",
    "    def getinfo(self):\n",
    "        print(\"Name:{0}\\nUSN ID:{1}\".format(self.Name,self.USN))\n",
    "        print(self.Name, \"got \", self.marks)\n",
    "        \n",
    "Rahul=Student('Rahul',46)  \n",
    "Rahul.Marks()\n",
    "Rahul.getinfo()\n",
    "Ajay=Student('Ajay',11)  \n",
    "Ajay.Marks()\n",
    "Ajay.getinfo()"
   ]
  },
  {
   "cell_type": "markdown",
   "id": "5a365c1b",
   "metadata": {},
   "source": [
    "5)A hospital wants to create a database regarding covid-19 patients. The information to store include: \n",
    "a) Name of the patient\n",
    "b) Date of admission. \n",
    "c) List of symptoms. \n",
    "d) Oxygen level.\n",
    "d) Date of discharge.\n",
    "Note: If the oxygen level is less than 90, then the patient is put on oxygen support else moved to the general ward for observation.\n",
    "Create a class to store the above information. The member function should include a function to enter patient’s information, check the severity, display the number of patients required oxygen support, number of patients in the general ward for observation, and the total number of patients admitted.\n"
   ]
  },
  {
   "cell_type": "code",
   "execution_count": 17,
   "id": "d9279bbf",
   "metadata": {},
   "outputs": [
    {
     "name": "stdout",
     "output_type": "stream",
     "text": [
      "\n",
      "\n",
      "Enter the name of the patient:Rahul\n",
      "Enter the date of the patient admission:1-09-2021\n",
      "Enter the oxygen level  of the patient :94\n",
      "Enter the number of symptoms:2\n",
      "Enter the symptoms:\n",
      " cold,cough\n",
      "\n",
      "\n",
      "Name:Rahul\n",
      "Date of admission:1-09-2021\n",
      "Oxygen Level:94\n",
      "Symptoms:['cold,cough']\n",
      "\n",
      "\n",
      "Enter the name of the patient:Ram\n",
      "Enter the date of the patient admission:25-08-2021\n",
      "Enter the oxygen level  of the patient :76\n",
      "Enter the number of symptoms:4\n",
      "Enter the symptoms:\n",
      " cold,cough,fever,body pains\n",
      "\n",
      "\n",
      "Name:Ram\n",
      "Date of admission:25-08-2021\n",
      "Oxygen Level:76\n",
      "Symptoms:['cold,cough,fever,body pains']\n",
      "\n",
      "\n",
      "Enter the name of the patient:Lisa\n",
      "Enter the date of the patient admission:9-09-2021\n",
      "Enter the oxygen level  of the patient :89\n",
      "Enter the number of symptoms:3\n",
      "Enter the symptoms:\n",
      " fever,cold,cough\n",
      "\n",
      "\n",
      "Name:Lisa\n",
      "Date of admission:9-09-2021\n",
      "Oxygen Level:89\n",
      "Symptoms:['fever,cold,cough']\n",
      "\n",
      "\n",
      "Number of patients in emergency ward:['Ram', 'Lisa']\n",
      "Total number of patients admitted:3\n"
     ]
    }
   ],
   "source": [
    "class Hospital():\n",
    "    count=0\n",
    "    oxy_support=[]\n",
    "    general=[]\n",
    "    \n",
    "    def __init__(self):\n",
    "        name=str(input(\"\\n\\nEnter the name of the patient:\"))\n",
    "        self.Name=name\n",
    "        date=(input(\"Enter the date of the patient admission:\"))\n",
    "        self.date=date\n",
    "        oxy_level=int(input(\"Enter the oxygen level  of the patient :\"))\n",
    "        self.oxy_level=oxy_level\n",
    "        self.symptoms=[]\n",
    "        Hospital.count+=1\n",
    "        self.severity()\n",
    "        self.emergency()\n",
    "        self.getinfo()\n",
    "        \n",
    "    def severity(self):\n",
    "        n=int(input('Enter the number of symptoms:'))\n",
    "        print(\"Enter the symptoms:\")\n",
    "        m=str(input(\" \"))\n",
    "        self.symptoms.append(m)\n",
    "        \n",
    "    def emergency(self):\n",
    "        if(self.oxy_level < 90):\n",
    "            Hospital.oxy_support.append(self.Name)\n",
    "            \n",
    "        else:\n",
    "            Hospital.general.append(self.Name)\n",
    "            \n",
    "            \n",
    "            \n",
    "            \n",
    "    def getinfo(self):\n",
    "        print(\"\\n\\nName:{0}\\nDate of admission:{1}\\nOxygen Level:{2}\\nSymptoms:{3}\".format(self.Name,self.date,self.oxy_level,self.symptoms))\n",
    "            \n",
    "    def results():\n",
    "        print(\"\\n\\nNumber of patients in emergency ward:{0}\\nTotal number of patients admitted:{1}\".format(Hospital.oxy_support,Hospital.count))\n",
    "        \n",
    "            \n",
    "Rahul=Hospital()\n",
    "Ram=Hospital()\n",
    "Lisa=Hospital()\n",
    "Hospital.results()\n",
    "            \n",
    "        \n",
    "        "
   ]
  },
  {
   "cell_type": "markdown",
   "id": "20f8a2c1",
   "metadata": {},
   "source": [
    "6.) Create a Class time that has separate int member data for hours, minutes, and seconds. One\n",
    "constructor should initialize this data to 0 and another should initialize it to fixed values. Another member function should display it in hh:mm: ss format.\n"
   ]
  },
  {
   "cell_type": "code",
   "execution_count": 9,
   "id": "37efc257",
   "metadata": {},
   "outputs": [
    {
     "name": "stdout",
     "output_type": "stream",
     "text": [
      "The Time is 09:33:22\n"
     ]
    }
   ],
   "source": [
    "class Time():\n",
    "    def __init__(self,hr=0,min_=0,sec=0):# first constructor\n",
    "        self.seconds=sec\n",
    "        self.hours=hr\n",
    "        self.minutes=min_\n",
    "        \n",
    "    def __init__(self,hr,min_,sec) :# second constructor\n",
    "        self.seconds=sec\n",
    "        self.hours=hr\n",
    "        self.minutes=min_\n",
    "        \n",
    "    def getTime(self):    \n",
    "        print(\"The Time is %s:%02d:%02d\"%(self.hours,self.minutes,self.seconds))\n",
    "#In python when we have two constructors the latest constructors is valid an it overwrites the previous one,\n",
    "#so here second constructor is valid and first constructor is overwritten    \n",
    "        \n",
    "Today=Time(\"09\",33,22)#here we took hours time as string since python doesn't allow leading zeroes\n",
    "Today.getTime()"
   ]
  },
  {
   "cell_type": "markdown",
   "id": "9c7c9cad",
   "metadata": {},
   "source": [
    "7.)Create a class to store the details of two students: std1(Name= Rahul, Age =21, roll no=33),\n",
    "Std2( Name = Rohit, Age=22, Roll no = 74)\n",
    "Write a function to compare the age of both the students, print whether they are equal or not equal.\n"
   ]
  },
  {
   "cell_type": "code",
   "execution_count": 13,
   "id": "6ca02412",
   "metadata": {},
   "outputs": [
    {
     "name": "stdout",
     "output_type": "stream",
     "text": [
      "False\n"
     ]
    }
   ],
   "source": [
    "class Student:\n",
    "    def __init__(self, first_name, age,num):\n",
    "        self.first_name = first_name\n",
    "        self.roll_num = num\n",
    "        self.age = age\n",
    "\n",
    "    def __eq__(self, other):\n",
    "        return self.age == other.age\n",
    "    \n",
    "    \n",
    "Rohit=Student('Rohit',22,74)\n",
    "Rahul=Student('Rahul',21,33)\n",
    "print(Rohit==Rahul)"
   ]
  },
  {
   "cell_type": "markdown",
   "id": "bb6ff2c8",
   "metadata": {},
   "source": [
    "8.) Create an instance of a class to store student details such as Sem, Institute, Name, and usn where:\n",
    "Sem and Institute details should be class variables.\n",
    "Name and usn should be instance variables.\n",
    "And also, print the instance variable using the instance method and class variable using the class method, also use a static method to print an explanation about the class.\n"
   ]
  },
  {
   "cell_type": "code",
   "execution_count": 67,
   "id": "be92a8ee",
   "metadata": {},
   "outputs": [
    {
     "name": "stdout",
     "output_type": "stream",
     "text": [
      "Name: Rahul\n",
      "USN: BCS32\n",
      "\n",
      "Semester:5\n",
      "Institute:IIITDWD\n",
      "\n",
      "A class is a code template for creating objects. Objects have member variables and have behaviour associated with them. In python a class is created by the keyword class.\n"
     ]
    }
   ],
   "source": [
    "class Student:\n",
    "    Semester=0\n",
    "    Institute=\"abc\"\n",
    "    \n",
    "    def __init__(self,name,usn):\n",
    "        self.name=name\n",
    "        self.usn=usn\n",
    "        \n",
    "    def details(self,sem,clg):\n",
    "        Semester=sem\n",
    "        Institute=clg\n",
    "        print(\"\\nSemester:{0}\\nInstitute:{1}\".format(Semester,Institute))\n",
    "        \n",
    "    def getname(self):\n",
    "        return self.name\n",
    "    \n",
    "    def getusn(self):\n",
    "        return self.usn\n",
    "    \n",
    "    @staticmethod\n",
    "    def Class(self):#we have defined the statsic method above using a decorater\n",
    "        \n",
    "         print(\"\\nA class is a code template for creating objects. Objects have member variables and have behaviour associated with them. In python a class is created by the keyword class.\")\n",
    "    \n",
    "    \n",
    "Rahul=Student(\"Rahul\",\"BCS32\")  \n",
    "print(\"Name:\",Rahul.getname())#printing instance variable usinf instance method\n",
    "print(\"USN:\",Rahul.getusn())#printing instance variable usinf instance method\n",
    "Rahul.Print=classmethod(Rahul.details(5,\"IIITDWD\"))#defining a class method and printing class variables\n",
    "Rahul.Class('self')#we have passed a arguent but has not used it in function Class.\n",
    "#In static method we need a argument to initialoze the method,since we are just printing the defination of class we passed a argument but has not used it"
   ]
  },
  {
   "cell_type": "markdown",
   "id": "d86f9078",
   "metadata": {},
   "source": [
    "9.) Write a python program to create a student class with the variable Name, Roll no, and Sem,  also the student is having a laptop create an instance of an inner class laptop with variable cpu, Ram, and hard disk and display details. Also, create multiple objects for the inner class laptop."
   ]
  },
  {
   "cell_type": "code",
   "execution_count": 27,
   "id": "69ea5ecc",
   "metadata": {
    "scrolled": false
   },
   "outputs": [
    {
     "name": "stdout",
     "output_type": "stream",
     "text": [
      "Name:Rahul\n",
      "Roll Number:32\n",
      "Semester:5\n",
      "Laptop:True\n",
      "\n",
      "Enter the CPU:Hexa-core\n",
      "Enter the RAM:8gb\n",
      "Enter the HDD:1Tb\n",
      "\n",
      "\n",
      "Latop specifications are \n",
      "CPU:8gb\n",
      "RAM:1Tb\n",
      "HDD:Hexa-core\n",
      "\n",
      "\n",
      "Name:Rishab\n",
      "Roll Number:42\n",
      "Semester:3\n",
      "Laptop:False\n",
      "\n"
     ]
    }
   ],
   "source": [
    "class Student:\n",
    "    def __init__(self,name,num,sem,laptop):\n",
    "        self.Name=name\n",
    "        self.Roll_num=num\n",
    "        self.sem=sem\n",
    "        self.laptop=laptop\n",
    "        \n",
    "    def getinfo(self):\n",
    "        print(\"Name:{0}\\nRoll Number:{1}\\nSemester:{2}\\nLaptop:{3}\\n\".format(self.Name,self.Roll_num,self.sem,self.laptop))\n",
    "        \n",
    "        if(self.laptop==True):#if True ask for laptop specifications else don't ask\n",
    "            a=input(\"Enter the CPU:\")\n",
    "            b=input(\"Enter the RAM:\")\n",
    "            c=input(\"Enter the HDD:\")\n",
    "            laptop=self.Laptop(a,b,c)\n",
    "            laptop.getspecs()\n",
    "            \n",
    "        else:\n",
    "            pass\n",
    "        \n",
    "        \n",
    "    class Laptop:\n",
    "        \n",
    "        def __init__(self,cpu,ram,hdd):\n",
    "            \n",
    "            self.Cpu=cpu\n",
    "            self.Ram=ram\n",
    "            self.Hdd=hdd\n",
    "            \n",
    "            \n",
    "        def getspecs(self):\n",
    "            print(\"\\n\\nLatop specifications are \\nCPU:{0}\\nRAM:{1}\\nHDD:{2}\\n\\n\".format(self.Ram,self.Hdd,self.Cpu))\n",
    "            \n",
    "            \n",
    "Rahul=Student(\"Rahul\",32,5,True)   \n",
    "Rahul.getinfo()\n",
    "\n",
    "\n",
    "Rishab=Student(\"Rishab\",42,3,False)   \n",
    "Rishab.getinfo()"
   ]
  }
 ],
 "metadata": {
  "kernelspec": {
   "display_name": "Python 3",
   "language": "python",
   "name": "python3"
  },
  "language_info": {
   "codemirror_mode": {
    "name": "ipython",
    "version": 3
   },
   "file_extension": ".py",
   "mimetype": "text/x-python",
   "name": "python",
   "nbconvert_exporter": "python",
   "pygments_lexer": "ipython3",
   "version": "3.8.8"
  }
 },
 "nbformat": 4,
 "nbformat_minor": 5
}
