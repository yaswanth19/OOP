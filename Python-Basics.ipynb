{
 "cells": [
  {
   "cell_type": "markdown",
   "id": "d582c8c8",
   "metadata": {},
   "source": [
    "# Keywords\n"
   ]
  },
  {
   "cell_type": "code",
   "execution_count": 1,
   "id": "2a56a76f",
   "metadata": {},
   "outputs": [
    {
     "name": "stdout",
     "output_type": "stream",
     "text": [
      "185.0\n",
      "['Bradd pit', 'Tom holland']\n",
      "1\n",
      "2\n",
      "3\n"
     ]
    }
   ],
   "source": [
    "\n",
    "multiline=(10*20-30/2)\n",
    "x = 1;y = 2;z = 3;\n",
    "actors=['Bradd pit','Tom holland']\n",
    "print(multiline,actors, x, y, z, sep = \"\\n\")"
   ]
  },
  {
   "cell_type": "markdown",
   "id": "ab98a592",
   "metadata": {},
   "source": [
    "## Indent\n"
   ]
  },
  {
   "cell_type": "code",
   "execution_count": 3,
   "id": "f50bc8f8",
   "metadata": {
    "scrolled": true
   },
   "outputs": [
    {
     "name": "stdout",
     "output_type": "stream",
     "text": [
      "0\n",
      "0\n",
      "2\n",
      "2\n",
      "4\n"
     ]
    }
   ],
   "source": [
    "for i in range(5):\n",
    "    if i % 2 == 0:\n",
    "        print(i)\n",
    "    else:\n",
    "        print(i-1)"
   ]
  },
  {
   "cell_type": "markdown",
   "id": "db13a338",
   "metadata": {},
   "source": [
    "## comment"
   ]
  },
  {
   "cell_type": "code",
   "execution_count": null,
   "id": "df07490a",
   "metadata": {},
   "outputs": [],
   "source": [
    "#this is comment\n",
    "\"\"\" this is also comment\"\"\""
   ]
  },
  {
   "cell_type": "markdown",
   "id": "81403598",
   "metadata": {},
   "source": [
    "## variable"
   ]
  },
  {
   "cell_type": "code",
   "execution_count": null,
   "id": "f26b33f0",
   "metadata": {},
   "outputs": [],
   "source": [
    "string='hi'\n",
    "num=number=2\n",
    "bool_=True\n",
    "float_num=4.9"
   ]
  },
  {
   "cell_type": "code",
   "execution_count": 5,
   "id": "e0601a4a",
   "metadata": {},
   "outputs": [
    {
     "ename": "NameError",
     "evalue": "name 'a' is not defined",
     "output_type": "error",
     "traceback": [
      "\u001b[1;31m---------------------------------------------------------------------------\u001b[0m",
      "\u001b[1;31mNameError\u001b[0m                                 Traceback (most recent call last)",
      "\u001b[1;32m<ipython-input-5-f8810526baa4>\u001b[0m in \u001b[0;36m<module>\u001b[1;34m\u001b[0m\n\u001b[0;32m      4\u001b[0m     \u001b[0mprint\u001b[0m\u001b[1;33m(\u001b[0m\u001b[0ma\u001b[0m\u001b[1;33m+\u001b[0m\u001b[0mb\u001b[0m\u001b[1;33m)\u001b[0m\u001b[1;33m\u001b[0m\u001b[1;33m\u001b[0m\u001b[0m\n\u001b[0;32m      5\u001b[0m     \u001b[1;32mreturn\u001b[0m\u001b[1;33m\u001b[0m\u001b[1;33m\u001b[0m\u001b[0m\n\u001b[1;32m----> 6\u001b[1;33m \u001b[0mprint\u001b[0m\u001b[1;33m(\u001b[0m\u001b[0ma\u001b[0m\u001b[1;33m)\u001b[0m\u001b[1;31m#will give error because scope of a is in the function\u001b[0m\u001b[1;33m\u001b[0m\u001b[1;33m\u001b[0m\u001b[0m\n\u001b[0m",
      "\u001b[1;31mNameError\u001b[0m: name 'a' is not defined"
     ]
    }
   ],
   "source": [
    "def func():\n",
    "    a=10\n",
    "    b=12\n",
    "    print(a+b)\n",
    "    return\n",
    "print(a)#will give error because scope of a is in the function"
   ]
  },
  {
   "cell_type": "markdown",
   "id": "0f4c1055",
   "metadata": {},
   "source": [
    "## Datatypes"
   ]
  },
  {
   "cell_type": "code",
   "execution_count": 8,
   "id": "d41d61d8",
   "metadata": {
    "scrolled": true
   },
   "outputs": [
    {
     "name": "stdout",
     "output_type": "stream",
     "text": [
      "<class 'int'> <class 'str'> <class 'float'> <class 'complex'>\n"
     ]
    }
   ],
   "source": [
    "a = 100\n",
    "b = \"String\"\n",
    "c = 5.5\n",
    "d = 5 + 10j\n",
    "print(type(a), type(b), type(c), type(d))"
   ]
  },
  {
   "cell_type": "markdown",
   "id": "ec8ac92f",
   "metadata": {},
   "source": [
    "## list "
   ]
  },
  {
   "cell_type": "code",
   "execution_count": 12,
   "id": "df7bb1a2",
   "metadata": {},
   "outputs": [
    {
     "name": "stdout",
     "output_type": "stream",
     "text": [
      "['a', 's', 'd', 'f']\n",
      "First two elements ['a', 's']\n",
      "['a', 's', 'd', 'f', 'w,', 'e']\n"
     ]
    }
   ],
   "source": [
    "list=['a','s','d','f']\n",
    "print(list)\n",
    "print(\"First two elements\",list[:2])\n",
    "list2=['w,','e']\n",
    "print(list+list2) #concat lists"
   ]
  },
  {
   "cell_type": "markdown",
   "id": "77ad13ab",
   "metadata": {},
   "source": [
    "## Tuple"
   ]
  },
  {
   "cell_type": "code",
   "execution_count": 13,
   "id": "87d1ff10",
   "metadata": {},
   "outputs": [
    {
     "name": "stdout",
     "output_type": "stream",
     "text": [
      "<class 'tuple'>\n",
      "('hi', 'bye', 5)\n",
      "('hi',)\n",
      "('hi', 'bye', 5, 'hi', 'bye', 5)\n",
      "('hi', 'bye', 5, 'hi', 'bye', 5)\n"
     ]
    },
    {
     "ename": "TypeError",
     "evalue": "'tuple' object does not support item assignment",
     "output_type": "error",
     "traceback": [
      "\u001b[1;31m---------------------------------------------------------------------------\u001b[0m",
      "\u001b[1;31mTypeError\u001b[0m                                 Traceback (most recent call last)",
      "\u001b[1;32m<ipython-input-13-aa07fc9ced68>\u001b[0m in \u001b[0;36m<module>\u001b[1;34m\u001b[0m\n\u001b[0;32m      5\u001b[0m \u001b[0mprint\u001b[0m\u001b[1;33m(\u001b[0m\u001b[0mtup\u001b[0m \u001b[1;33m+\u001b[0m \u001b[0mtup\u001b[0m\u001b[1;33m)\u001b[0m\u001b[1;33m\u001b[0m\u001b[1;33m\u001b[0m\u001b[0m\n\u001b[0;32m      6\u001b[0m \u001b[0mprint\u001b[0m\u001b[1;33m(\u001b[0m\u001b[0mtup\u001b[0m\u001b[1;33m*\u001b[0m\u001b[1;36m2\u001b[0m\u001b[1;33m)\u001b[0m\u001b[1;33m\u001b[0m\u001b[1;33m\u001b[0m\u001b[0m\n\u001b[1;32m----> 7\u001b[1;33m \u001b[0mtup\u001b[0m\u001b[1;33m[\u001b[0m\u001b[1;36m2\u001b[0m\u001b[1;33m]\u001b[0m \u001b[1;33m=\u001b[0m \u001b[1;34m\"hello\"\u001b[0m\u001b[1;33m\u001b[0m\u001b[1;33m\u001b[0m\u001b[0m\n\u001b[0m",
      "\u001b[1;31mTypeError\u001b[0m: 'tuple' object does not support item assignment"
     ]
    }
   ],
   "source": [
    "tup = (\"hi\", \"bye\", 5)\n",
    "print(type(tup))\n",
    "print(tup)\n",
    "print(tup[:1])\n",
    "print(tup + tup)\n",
    "print(tup*2)\n",
    "tup[2] = \"hello\"#will give error as tup;e cant be modified after assigning"
   ]
  },
  {
   "cell_type": "markdown",
   "id": "e08bd0cc",
   "metadata": {},
   "source": [
    "## Dictionary"
   ]
  },
  {
   "cell_type": "code",
   "execution_count": 17,
   "id": "cd0488be",
   "metadata": {},
   "outputs": [
    {
     "name": "stdout",
     "output_type": "stream",
     "text": [
      "{1: 'Rohit', 2: 'Rahul', 5: 'Rishab'}\n",
      "Second name is  Rahul\n",
      "dict_keys([1, 2, 5])\n",
      "dict_values(['Rohit', 'Rahul', 'Rishab'])\n"
     ]
    }
   ],
   "source": [
    "dict = {1: \"Rohit\",2: \"Rahul\", 5: \"Rishab\" }\n",
    "print(dict)\n",
    "print(\"Second name is \", dict[2])\n",
    "print(dict.keys())\n",
    "print(dict.values())"
   ]
  },
  {
   "cell_type": "markdown",
   "id": "aa7468ef",
   "metadata": {},
   "source": [
    "## Set"
   ]
  },
  {
   "cell_type": "code",
   "execution_count": 19,
   "id": "b966b1d8",
   "metadata": {},
   "outputs": [
    {
     "name": "stdout",
     "output_type": "stream",
     "text": [
      "{'bye', 100, 'hi'}\n",
      "{'hello', 'bye', 100, 'hi'}\n"
     ]
    }
   ],
   "source": [
    "\n",
    "set = {'hi','bye',100}\n",
    "print(set)\n",
    "set2.add(\"hello\")\n",
    "print(set)"
   ]
  },
  {
   "cell_type": "markdown",
   "id": "c39c9270",
   "metadata": {},
   "source": [
    "## Type conversion"
   ]
  },
  {
   "cell_type": "code",
   "execution_count": 22,
   "id": "a1bb5580",
   "metadata": {},
   "outputs": [
    {
     "name": "stdout",
     "output_type": "stream",
     "text": [
      "Before- 10 <class 'str'>\n",
      "After- 10 <class 'int'>\n",
      "20\n"
     ]
    }
   ],
   "source": [
    "\n",
    "intnum = 10\n",
    "intstr = \"10\"\n",
    "print(\"Before-\", intstr, type(intstr))\n",
    "intstr = int(intstr)\n",
    "print(\"After-\", intstr, type(intstr))\n",
    "print(intstr + intnum)"
   ]
  },
  {
   "cell_type": "markdown",
   "id": "34d67e7a",
   "metadata": {},
   "source": [
    "## Operators"
   ]
  },
  {
   "cell_type": "code",
   "execution_count": 23,
   "id": "2c9359ec",
   "metadata": {
    "scrolled": true
   },
   "outputs": [
    {
     "name": "stdout",
     "output_type": "stream",
     "text": [
      "Addition = 20\n",
      "Subtraction = 0\n",
      "Multiplication = 100\n",
      "Division = 1.0\n",
      "Remainder = 0\n",
      "PowerOf = 10000000000\n"
     ]
    }
   ],
   "source": [
    "#Arithemtic\n",
    "a=10\n",
    "b=10\n",
    "print(\"Addition =\", a + b)\n",
    "print(\"Subtraction =\", a - b)\n",
    "print(\"Multiplication =\", a * b)\n",
    "print(\"Division =\", a / b)\n",
    "print(\"Remainder =\", a % b)#the opeartor is modulo\n",
    "print(\"PowerOf =\", a ** b)"
   ]
  },
  {
   "cell_type": "code",
   "execution_count": 24,
   "id": "6afaf9f7",
   "metadata": {},
   "outputs": [
    {
     "name": "stdout",
     "output_type": "stream",
     "text": [
      "a = True n = False\n",
      "a and b is False\n",
      "a or b is True\n",
      "not a is False\n"
     ]
    }
   ],
   "source": [
    "#Logical\n",
    "a = True\n",
    "b = False\n",
    "print(\"a =\", a, \"n =\",b)\n",
    "print('not a is',not a)\n",
    "print('a and b is',a and b)\n",
    "print('a or b is',a or b)\n",
    "\n"
   ]
  },
  {
   "cell_type": "code",
   "execution_count": 25,
   "id": "786558b7",
   "metadata": {},
   "outputs": [
    {
     "name": "stdout",
     "output_type": "stream",
     "text": [
      "True\n",
      "True\n",
      "False\n"
     ]
    }
   ],
   "source": [
    "#Identify\n",
    "num1 = 0\n",
    "num2 = 1\n",
    "str1 = 'hi'\n",
    "str2 = 'hi'\n",
    "list1 = [1,2,3]\n",
    "list2 = [1,2,3]\n",
    "\n",
    "print(num1 is not num2)\n",
    "\n",
    "print(str1 is str2)\n",
    "\n",
    "print(list1 is list2)"
   ]
  },
  {
   "cell_type": "markdown",
   "id": "a323ae0f",
   "metadata": {},
   "source": [
    "## Loops"
   ]
  },
  {
   "cell_type": "code",
   "execution_count": 26,
   "id": "7dfd2ef1",
   "metadata": {},
   "outputs": [
    {
     "name": "stdout",
     "output_type": "stream",
     "text": [
      "zero\n"
     ]
    }
   ],
   "source": [
    "#if,elif,else\n",
    "a=0\n",
    "if(a<0):\n",
    "    print('-ve')\n",
    "elif(a>0):\n",
    "    print(+ve)\n",
    "else:\n",
    "    print('zero')"
   ]
  },
  {
   "cell_type": "code",
   "execution_count": 29,
   "id": "a5fa0dc7",
   "metadata": {
    "scrolled": true
   },
   "outputs": [
    {
     "name": "stdout",
     "output_type": "stream",
     "text": [
      "0.0\n",
      "0.5\n",
      "1.0\n",
      "1.5\n",
      "2.0\n",
      "2.5\n",
      "3.0\n",
      "3.5\n",
      "4.0\n",
      "4.5\n"
     ]
    }
   ],
   "source": [
    "#for loop\n",
    "for a in range(10):\n",
    "    print(a/2)\n"
   ]
  },
  {
   "cell_type": "code",
   "execution_count": 34,
   "id": "2ba25163",
   "metadata": {
    "scrolled": true
   },
   "outputs": [
    {
     "name": "stdout",
     "output_type": "stream",
     "text": [
      "4\n",
      "3\n",
      "2\n",
      "1\n"
     ]
    }
   ],
   "source": [
    "#while loop\n",
    "a=4\n",
    "while(a>0):\n",
    "    print(a)\n",
    "    a=a-1"
   ]
  },
  {
   "cell_type": "code",
   "execution_count": null,
   "id": "bb399530",
   "metadata": {},
   "outputs": [],
   "source": []
  },
  {
   "cell_type": "code",
   "execution_count": null,
   "id": "2bcbfd5b",
   "metadata": {},
   "outputs": [],
   "source": []
  }
 ],
 "metadata": {
  "kernelspec": {
   "display_name": "Python 3",
   "language": "python",
   "name": "python3"
  },
  "language_info": {
   "codemirror_mode": {
    "name": "ipython",
    "version": 3
   },
   "file_extension": ".py",
   "mimetype": "text/x-python",
   "name": "python",
   "nbconvert_exporter": "python",
   "pygments_lexer": "ipython3",
   "version": "3.8.8"
  }
 },
 "nbformat": 4,
 "nbformat_minor": 5
}
