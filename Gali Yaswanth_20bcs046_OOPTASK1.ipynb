{
 "cells": [
  {
   "cell_type": "markdown",
   "id": "f44e15b9",
   "metadata": {},
   "source": [
    "1.)An extra day is added to the calendar almost every four years as February 29, and the day is\n",
    "called a leap day. It corrects the calendar for the fact that our planet takes approximately 365.25\n",
    "days to orbit the sun. A leap year contains a leap day.\n",
    "In the Gregorian calendar, three conditions are used to identify leap years:\n",
    "1. The year can be evenly divided by 4, is a leap year, unless:\n",
    "2. The year can be evenly divided by 100, it is NOT a leap year, unless:\n",
    "3. The year is also evenly divisible by 400. Then it is a leap year."
   ]
  },
  {
   "cell_type": "code",
   "execution_count": 37,
   "id": "212cce36",
   "metadata": {},
   "outputs": [
    {
     "name": "stdout",
     "output_type": "stream",
     "text": [
      "True\n"
     ]
    },
    {
     "data": {
      "text/plain": [
       "False"
      ]
     },
     "execution_count": 37,
     "metadata": {},
     "output_type": "execute_result"
    }
   ],
   "source": [
    "def CheckLeap(Year):   \n",
    "    if((Year % 400 == 0) or  (Year % 100 != 0) and  (Year % 4 == 0)):\n",
    "        return True\n",
    "    else:\n",
    "        return False\n",
    "    return\n",
    "print(CheckLeap(2000))\n",
    "CheckLeap(1900)"
   ]
  },
  {
   "cell_type": "markdown",
   "id": "df635aca",
   "metadata": {},
   "source": [
    "2.)Given an integer ‘n’, write a python code to perform the following conditional actions:\n",
    "If ‘n’ is odd, print Weird\n",
    "If ‘n’ is even and in the inclusive range of 2 to 5, print Not Weird\n",
    "If ‘n’ is even and in the inclusive range of 6 to 20, print Weird\n",
    "If ‘n’ is even and greater than 20, print Not Weird"
   ]
  },
  {
   "cell_type": "code",
   "execution_count": 13,
   "id": "47995fc9",
   "metadata": {},
   "outputs": [
    {
     "name": "stdout",
     "output_type": "stream",
     "text": [
      "Not Weird\n",
      "Weird\n",
      "Not Weird\n",
      "Weird\n"
     ]
    }
   ],
   "source": [
    "def func(n):\n",
    "    if(n%2==0 & n>=2 & n<=5):\n",
    "        return print(\"Not Weird\")\n",
    "    if(n%2==0 & n>=6 & n<=20):\n",
    "        return print(\"Weird\")\n",
    "    if(n%2==0 & n>20):\n",
    "        return print(\"Not Weird\")\n",
    "    else:\n",
    "        return print(\"Weird\")\n",
    "    return\n",
    "func(4)\n",
    "func(10)\n",
    "func(40)\n",
    "func(3)"
   ]
  },
  {
   "cell_type": "markdown",
   "id": "3b0e6f1c",
   "metadata": {},
   "source": [
    "3.)The following list represents a party with 7 guests, in which ‘Hardik’ showed up first and ‘Rahane’ was the last to arrive:\n",
    " \n",
    "    Arrivals = ['Hardik', 'Rahul', 'Virat', 'Rishabh’, ‘Mahi’ 'Rohit', 'Rahane']\n",
    " \n",
    "A guest is considered 'fashionably late' if they arrived after at least half of the party's guests. However, they must not be the very last guest (that's taking it too far). In the above example, ‘rishabh’, ‘Mahi’ and ‘Rohit’ are the only guests who were fashionably late.\n",
    " \n",
    "Write the function which takes a list of party attendees as well as a person, and tells us whether that person is fashionably late.\n"
   ]
  },
  {
   "cell_type": "code",
   "execution_count": 35,
   "id": "97cad0b6",
   "metadata": {
    "scrolled": true
   },
   "outputs": [
    {
     "name": "stdout",
     "output_type": "stream",
     "text": [
      "He is fashionably Late!\n"
     ]
    }
   ],
   "source": [
    "list = ['Hardik', 'Rahul', 'Virat' ,'Rishab' ,'MSD','Rohit','Rahane']\n",
    "def func(list,key):\n",
    "    n=len(list)\n",
    "    for i in range(int(n/2),n-1):\n",
    "        if(list[i]==key):\n",
    "            print('He is fashionably Late!')\n",
    "            return\n",
    "    else:\n",
    "        print('He is not Late!')\n",
    "        \n",
    "func(list,'Rohit')        \n",
    "        \n",
    "\n",
    "    \n",
    "\n",
    "            "
   ]
  },
  {
   "cell_type": "markdown",
   "id": "4f6794bf",
   "metadata": {},
   "source": [
    "Problem-IV\n",
    "\n",
    "A researcher has gathered thousands of news articles. But she wants to focus her attention on articles including a specific word. Write a function to help her filter her list of articles.\n",
    "Your function should meet the following criteria:\n",
    "\n",
    "Do not include documents where the keyword string shows up only as a part of a larger word. For example, if she were looking for the keyword “closed”, you would not include the string “enclosed.”\n",
    "\n",
    "She does not want you to distinguish upper case from lower case letters. So the phrase “Closed the case.” would be included when the keyword is “closed”\n",
    "\n",
    "Do not let periods or commas affect what is matched. “It is closed.” would be included when the keyword is “closed”. But you can assume there are no other types of punctuation.\n",
    " \n",
    "Assume, doc_list = [\"The Learn Python Challenge Rohit.\", \"They bought a car\", \"bangalore\"]\n"
   ]
  },
  {
   "cell_type": "code",
   "execution_count": 46,
   "id": "0d5592de",
   "metadata": {},
   "outputs": [
    {
     "name": "stdout",
     "output_type": "stream",
     "text": [
      "Enter the keyword to search :the\n",
      "Keyword found as: [(1, 'The Learn Python Challenge Rohit.')]\n"
     ]
    }
   ],
   "source": [
    "doc_list = [\"The Learn Python Challenge Rohit.\", \"They bought a car\", \"bangalore\"]\n",
    "key = input(\"Enter the keyword to search :\")\n",
    "key = key.strip('.').lower()\n",
    "found = []\n",
    "for i in doc_list:\n",
    "    words = i.split()\n",
    "    for j,word in enumerate(words):\n",
    "        if key == word.strip('.').lower():\n",
    "            found.append((j+1,i))\n",
    "if len(found):\n",
    "    print(\"Keyword found as:\",found)\n",
    "else:\n",
    "    print(\"Not Found !\")\n"
   ]
  },
  {
   "cell_type": "markdown",
   "id": "bf29b8b3",
   "metadata": {},
   "source": [
    "Problem-V\n",
    "\n",
    "An Employee's Basic Pay (BP) is to be read from user. DA is 40% of BP, HRA is 20% of BP, and write a function to calculate the Gross Pay (GP) GP is computed as BP + DA + HRA.\n"
   ]
  },
  {
   "cell_type": "code",
   "execution_count": 38,
   "id": "6ea2fb19",
   "metadata": {},
   "outputs": [
    {
     "name": "stdout",
     "output_type": "stream",
     "text": [
      "The grosss pay for the employee is 160.000000\n"
     ]
    }
   ],
   "source": [
    "def pay(bp):\n",
    "    da=0.4*bp\n",
    "    hra=0.2*bp\n",
    "    Gross_pay=bp+da+hra\n",
    "    print(\"The grosss pay for the employee is %f\"%Gross_pay)\n",
    "    return\n",
    "pay(100)"
   ]
  }
 ],
 "metadata": {
  "kernelspec": {
   "display_name": "Python 3",
   "language": "python",
   "name": "python3"
  },
  "language_info": {
   "codemirror_mode": {
    "name": "ipython",
    "version": 3
   },
   "file_extension": ".py",
   "mimetype": "text/x-python",
   "name": "python",
   "nbconvert_exporter": "python",
   "pygments_lexer": "ipython3",
   "version": "3.8.8"
  }
 },
 "nbformat": 4,
 "nbformat_minor": 5
}
