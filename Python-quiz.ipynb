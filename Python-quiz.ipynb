{
 "cells": [
  {
   "cell_type": "markdown",
   "id": "90b42d12",
   "metadata": {},
   "source": [
    "Problem 1: Write a function that returns the maximum of two numbers."
   ]
  },
  {
   "cell_type": "code",
   "execution_count": 5,
   "id": "b0d17b93",
   "metadata": {},
   "outputs": [
    {
     "data": {
      "text/plain": [
       "10"
      ]
     },
     "execution_count": 5,
     "metadata": {},
     "output_type": "execute_result"
    }
   ],
   "source": [
    "def maxnum(a, b):\n",
    "    if (a > b):\n",
    "        return a\n",
    "    return b\n",
    "maxnum(2,10)"
   ]
  },
  {
   "cell_type": "markdown",
   "id": "771e30e3",
   "metadata": {},
   "source": [
    "Problem 2: Write a function called numbergame that takes a number. If the number is divisible by 3, it should return “Number”. If it is divisible by 5, it should return “Game”. If it is divisible by both 3 and 5, it should return “numbergame”. Otherwise, it should return the same number."
   ]
  },
  {
   "cell_type": "code",
   "execution_count": 6,
   "id": "9f3a8e2b",
   "metadata": {},
   "outputs": [
    {
     "data": {
      "text/plain": [
       "'Number'"
      ]
     },
     "execution_count": 6,
     "metadata": {},
     "output_type": "execute_result"
    }
   ],
   "source": [
    "def numbergame(num):\n",
    "    if (num%3==0 and num%5==0):\n",
    "        return \"numbergame\"\n",
    "    elif (num%3==0):\n",
    "        return \"Number\"\n",
    "    elif (num%5==0):\n",
    "        return \"Game\"\n",
    "    else:\n",
    "        return num\n",
    "    return\n",
    "\n",
    "numbergame(3)"
   ]
  },
  {
   "cell_type": "raw",
   "id": "ba33744c",
   "metadata": {},
   "source": [
    "Problem 3: Write a function for checking the speed of drivers. This function should have one parameter: speed. If speed is less than 70, it should print “Ok”.Otherwise, for every 5km above the speed limit (70), it should give the driver one demerit point and print the total number of demerit points. For example, if the speed is 80, it should print: “Points: 2”.If the driver gets more than 12 points, the function should print: “License suspended”"
   ]
  },
  {
   "cell_type": "code",
   "execution_count": 12,
   "id": "a2990c7f",
   "metadata": {},
   "outputs": [
    {
     "name": "stdout",
     "output_type": "stream",
     "text": [
      "Points: 4.0\n"
     ]
    }
   ],
   "source": [
    "\n",
    "def speedcheck(speed):\n",
    "    if (speed < 70):\n",
    "        print(\"OK\")\n",
    "    else:\n",
    "        points = speed - 70\n",
    "        points = points/5\n",
    "    if (points > 12):\n",
    "        print(\"License Suspended\")\n",
    "    else:\n",
    "        print(f\"Points: {points}\")\n",
    "\n",
    "speedcheck(90)"
   ]
  },
  {
   "cell_type": "markdown",
   "id": "279b5f0e",
   "metadata": {},
   "source": [
    "Problem 4: Write a function called showNumbers that takes a parameter called limit. It should print all the numbers between 0 and limit with a label to identify the even and odd numbers. For example, if the limit is 3, it should print: 0 EVEN 1 ODD 2 EVEN 3 ODD"
   ]
  },
  {
   "cell_type": "code",
   "execution_count": 14,
   "id": "a03a9914",
   "metadata": {},
   "outputs": [
    {
     "name": "stdout",
     "output_type": "stream",
     "text": [
      "0 EVEN\n",
      "1 ODD\n",
      "2 EVEN\n",
      "3 ODD\n",
      "4 EVEN\n"
     ]
    }
   ],
   "source": [
    "def showNumbers(limit):\n",
    "    for i in range(0,limit+1):\n",
    "        if (i%2==0):\n",
    "            print(f\"{i} EVEN\")\n",
    "        else:\n",
    "            print(f\"{i} ODD\")\n",
    "\n",
    "showNumbers(4)"
   ]
  },
  {
   "cell_type": "markdown",
   "id": "ef6d3c47",
   "metadata": {},
   "source": [
    "Problem 5: Write a function called showSigns(rows). If rows is 5, it should print the following: & && &&& &&&& &&&&&"
   ]
  },
  {
   "cell_type": "code",
   "execution_count": 15,
   "id": "2e58b955",
   "metadata": {},
   "outputs": [
    {
     "name": "stdout",
     "output_type": "stream",
     "text": [
      "&\n",
      "\n",
      "&&\n",
      "\n",
      "&&&\n",
      "\n",
      "&&&&\n",
      "\n",
      "&&&&&\n",
      "\n",
      "&&&&&&\n",
      "\n"
     ]
    }
   ],
   "source": [
    "def showSigns(rows):\n",
    "  for i in range(1, rows+1):\n",
    "    for j in range(i):\n",
    "      print(\"&\", end=\"\")\n",
    "    print(\"\\n\")\n",
    "\n",
    "showSigns(6)"
   ]
  },
  {
   "cell_type": "markdown",
   "id": "8900d3a0",
   "metadata": {},
   "source": [
    "Problem 6: Write a function that prints all the prime numbers between 0 and max where max is a parameter.\n"
   ]
  },
  {
   "cell_type": "code",
   "execution_count": 18,
   "id": "0eb5685a",
   "metadata": {},
   "outputs": [
    {
     "name": "stdout",
     "output_type": "stream",
     "text": [
      "2\n",
      "3\n",
      "5\n",
      "7\n",
      "11\n",
      "13\n",
      "17\n",
      "19\n"
     ]
    }
   ],
   "source": [
    "\n",
    "def primeList(max):\n",
    "    for i in range(2, max+1):\n",
    "        check = True\n",
    "        for j in range(2,i):\n",
    "            if (i%j==0):\n",
    "                check = False\n",
    "                break\n",
    "        if check:\n",
    "            print(i)\n",
    "\n",
    "primeList(20)"
   ]
  }
 ],
 "metadata": {
  "kernelspec": {
   "display_name": "Python 3",
   "language": "python",
   "name": "python3"
  },
  "language_info": {
   "codemirror_mode": {
    "name": "ipython",
    "version": 3
   },
   "file_extension": ".py",
   "mimetype": "text/x-python",
   "name": "python",
   "nbconvert_exporter": "python",
   "pygments_lexer": "ipython3",
   "version": "3.8.8"
  }
 },
 "nbformat": 4,
 "nbformat_minor": 5
}
