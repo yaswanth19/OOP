{
 "cells": [
  {
   "cell_type": "code",
   "execution_count": 1,
   "id": "830a54e0",
   "metadata": {
    "scrolled": true
   },
   "outputs": [
    {
     "name": "stdout",
     "output_type": "stream",
     "text": [
      "Public Member\n"
     ]
    },
    {
     "ename": "AttributeError",
     "evalue": "'base' object has no attribute '__status'",
     "output_type": "error",
     "traceback": [
      "\u001b[1;31m---------------------------------------------------------------------------\u001b[0m",
      "\u001b[1;31mAttributeError\u001b[0m                            Traceback (most recent call last)",
      "\u001b[1;32m<ipython-input-1-2590d74c494e>\u001b[0m in \u001b[0;36m<module>\u001b[1;34m\u001b[0m\n\u001b[0;32m      8\u001b[0m \u001b[0mobject\u001b[0m \u001b[1;33m=\u001b[0m \u001b[0mbase\u001b[0m\u001b[1;33m(\u001b[0m\u001b[1;33m)\u001b[0m\u001b[1;33m\u001b[0m\u001b[1;33m\u001b[0m\u001b[0m\n\u001b[0;32m      9\u001b[0m \u001b[0mprint\u001b[0m\u001b[1;33m(\u001b[0m\u001b[0mobject\u001b[0m\u001b[1;33m.\u001b[0m\u001b[0mname\u001b[0m\u001b[1;33m)\u001b[0m\u001b[1;33m\u001b[0m\u001b[1;33m\u001b[0m\u001b[0m\n\u001b[1;32m---> 10\u001b[1;33m \u001b[0mprint\u001b[0m\u001b[1;33m(\u001b[0m\u001b[0mobject\u001b[0m\u001b[1;33m.\u001b[0m\u001b[0m__status\u001b[0m\u001b[1;33m)\u001b[0m \u001b[1;31m#Will not work as it is a private member\u001b[0m\u001b[1;33m\u001b[0m\u001b[1;33m\u001b[0m\u001b[0m\n\u001b[0m",
      "\u001b[1;31mAttributeError\u001b[0m: 'base' object has no attribute '__status'"
     ]
    }
   ],
   "source": [
    "#show that private numbers cannot be called in main\n",
    "class base:\n",
    "    \n",
    "    def __init__(self):\n",
    "        self.name = \"public member\"\n",
    "        self.__status = \"private member\"\n",
    "\n",
    "object = base()\n",
    "print(object.name)\n",
    "print(object.__status)#gives an error as it is private number"
   ]
  },
  {
   "cell_type": "code",
   "execution_count": 2,
   "id": "3596ccc7",
   "metadata": {},
   "outputs": [
    {
     "name": "stdout",
     "output_type": "stream",
     "text": [
      "public member\n",
      "private member\n"
     ]
    }
   ],
   "source": [
    "# to show private and public members can be printed in the main function \n",
    "class base:\n",
    "    \n",
    "    def __init__(self):\n",
    "        self.name = \"public member\"\n",
    "        self.__status = \"private member\"\n",
    "        print(self.name)\n",
    "        print(self.__status)\n",
    "\n",
    "object = base()"
   ]
  },
  {
   "cell_type": "code",
   "execution_count": 5,
   "id": "75010da2",
   "metadata": {},
   "outputs": [
    {
     "name": "stdout",
     "output_type": "stream",
     "text": [
      "Public Member\n"
     ]
    },
    {
     "ename": "AttributeError",
     "evalue": "'derived' object has no attribute '_derived__status'",
     "output_type": "error",
     "traceback": [
      "\u001b[1;31m---------------------------------------------------------------------------\u001b[0m",
      "\u001b[1;31mAttributeError\u001b[0m                            Traceback (most recent call last)",
      "\u001b[1;32m<ipython-input-5-c9234e827d37>\u001b[0m in \u001b[0;36m<module>\u001b[1;34m\u001b[0m\n\u001b[0;32m     12\u001b[0m \u001b[1;33m\u001b[0m\u001b[0m\n\u001b[0;32m     13\u001b[0m \u001b[0mobject1\u001b[0m \u001b[1;33m=\u001b[0m \u001b[0mbase\u001b[0m\u001b[1;33m(\u001b[0m\u001b[1;33m)\u001b[0m\u001b[1;33m\u001b[0m\u001b[1;33m\u001b[0m\u001b[0m\n\u001b[1;32m---> 14\u001b[1;33m \u001b[0mobject2\u001b[0m \u001b[1;33m=\u001b[0m \u001b[0mderived\u001b[0m\u001b[1;33m(\u001b[0m\u001b[1;33m)\u001b[0m\u001b[1;33m\u001b[0m\u001b[1;33m\u001b[0m\u001b[0m\n\u001b[0m",
      "\u001b[1;32m<ipython-input-5-c9234e827d37>\u001b[0m in \u001b[0;36m__init__\u001b[1;34m(self)\u001b[0m\n\u001b[0;32m      9\u001b[0m         \u001b[0mbase\u001b[0m\u001b[1;33m.\u001b[0m\u001b[0m__init__\u001b[0m\u001b[1;33m(\u001b[0m\u001b[0mself\u001b[0m\u001b[1;33m)\u001b[0m\u001b[1;33m\u001b[0m\u001b[1;33m\u001b[0m\u001b[0m\n\u001b[0;32m     10\u001b[0m         \u001b[0mprint\u001b[0m\u001b[1;33m(\u001b[0m\u001b[0mself\u001b[0m\u001b[1;33m.\u001b[0m\u001b[0mname\u001b[0m\u001b[1;33m)\u001b[0m\u001b[1;33m\u001b[0m\u001b[1;33m\u001b[0m\u001b[0m\n\u001b[1;32m---> 11\u001b[1;33m         \u001b[0mprint\u001b[0m\u001b[1;33m(\u001b[0m\u001b[0mself\u001b[0m\u001b[1;33m.\u001b[0m\u001b[0m__status\u001b[0m\u001b[1;33m)\u001b[0m \u001b[1;31m# gives error as derived classes does not inherit private members\u001b[0m\u001b[1;33m\u001b[0m\u001b[1;33m\u001b[0m\u001b[0m\n\u001b[0m\u001b[0;32m     12\u001b[0m \u001b[1;33m\u001b[0m\u001b[0m\n\u001b[0;32m     13\u001b[0m \u001b[0mobject1\u001b[0m \u001b[1;33m=\u001b[0m \u001b[0mbase\u001b[0m\u001b[1;33m(\u001b[0m\u001b[1;33m)\u001b[0m\u001b[1;33m\u001b[0m\u001b[1;33m\u001b[0m\u001b[0m\n",
      "\u001b[1;31mAttributeError\u001b[0m: 'derived' object has no attribute '_derived__status'"
     ]
    }
   ],
   "source": [
    "#to show how private and public members work while inheriting\n",
    "class base:\n",
    "    \n",
    "    def __init__(self):\n",
    "        self.name = \"Public Member\"\n",
    "        self.__status = \"Private member\"\n",
    "\n",
    "class derived(base):\n",
    "    def __init__(self):\n",
    "        base.__init__(self)\n",
    "        print(self.name)\n",
    "        print(self.__status) # gives error as derived classes does not inherit private members\n",
    "\n",
    "object1 = base()\n",
    "object2 = derived()"
   ]
  },
  {
   "cell_type": "code",
   "execution_count": 6,
   "id": "bab5b6c8",
   "metadata": {},
   "outputs": [
    {
     "name": "stdout",
     "output_type": "stream",
     "text": [
      "Public Member\n",
      "Private member\n",
      "Public Member\n",
      "Private member\n"
     ]
    }
   ],
   "source": [
    "#Using constructor to get automatically called without any function call\n",
    "class base:\n",
    "    \n",
    "    def __init__(self):\n",
    "        self.name = \"public member\"\n",
    "        self.__status = \"private member\"\n",
    "        print(self.name) # print name\n",
    "        print(self.__status) # print status\n",
    "\n",
    "object1 = base()\n",
    "object2 = base()"
   ]
  },
  {
   "cell_type": "code",
   "execution_count": 7,
   "id": "c42e6401",
   "metadata": {},
   "outputs": [
    {
     "name": "stdout",
     "output_type": "stream",
     "text": [
      "jay\n",
      "SDE\n"
     ]
    }
   ],
   "source": [
    "#using parametrized constructor\n",
    "class Base:\n",
    "    \n",
    "    def __init__(self, name, job):\n",
    "        self.name = name\n",
    "        self.__job = job\n",
    "    \n",
    "    def getstatus(self):\n",
    "        return self.__job\n",
    "    \n",
    "    def setstatus(self, change):\n",
    "        self.__job = change\n",
    "\n",
    "obj1 = Base(\"Jay\", \"SDE\")\n",
    "print(obj1.name)\n",
    "print(obj1.getstatus())"
   ]
  },
  {
   "cell_type": "code",
   "execution_count": 15,
   "id": "4bbf3fb3",
   "metadata": {},
   "outputs": [
    {
     "name": "stdout",
     "output_type": "stream",
     "text": [
      "Name- Tesla \n",
      "Model- S\n",
      "Price- Rs 500000\n",
      "Color- Grey\n",
      "\n",
      "Name- Tesla \n",
      "Model- S\n",
      "Price- Rs 500000\n",
      "Color- Grey\n",
      "\n"
     ]
    }
   ],
   "source": [
    "#Example\n",
    "\n",
    "class car:   \n",
    "    def __init__(self, name, model, price, color):\n",
    "        self.__name = name  #private\n",
    "        self.__model = model\n",
    "        self.price = price  #public\n",
    "        self.color = color\n",
    "    def getinfo(self):\n",
    "        print('Name- {0} \\nModel- {1}\\nPrice- Rs {2}\\nColor- {3}\\n'.format(self.__name, self.__model, self.price, self.color))\n",
    "    \n",
    "\n",
    "Car = car('Tesla', 'S', 500000, 'Grey')\n",
    "Car.getinfo()\n",
    "Car.__name = 'BMW'        # will not change the name of car as it is  private\n",
    "Car.getinfo()"
   ]
  }
 ],
 "metadata": {
  "kernelspec": {
   "display_name": "Python 3",
   "language": "python",
   "name": "python3"
  },
  "language_info": {
   "codemirror_mode": {
    "name": "ipython",
    "version": 3
   },
   "file_extension": ".py",
   "mimetype": "text/x-python",
   "name": "python",
   "nbconvert_exporter": "python",
   "pygments_lexer": "ipython3",
   "version": "3.8.8"
  }
 },
 "nbformat": 4,
 "nbformat_minor": 5
}
