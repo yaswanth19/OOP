{
 "cells": [
  {
   "cell_type": "markdown",
   "id": "a1eeb4cf",
   "metadata": {},
   "source": [
    "Write a Python programme to create the parent class shape, derive the subclasses circle,\n",
    "square, and rectangle from the class shape, and demonstrate polymorphism in inheritance\n",
    "using a member function area ()."
   ]
  },
  {
   "cell_type": "code",
   "execution_count": 3,
   "id": "3f4e89af",
   "metadata": {},
   "outputs": [
    {
     "name": "stdout",
     "output_type": "stream",
     "text": [
      "Area of square is 100\n",
      "Area of rectangle is 110\n",
      "Area of circle is 314.159\n"
     ]
    }
   ],
   "source": [
    "from abc import ABC, abstractmethod\n",
    "import math\n",
    "class Shape(ABC):\n",
    "    def __init__(self, shape):\n",
    "        self.shape = shape\n",
    "\n",
    "    @abstractmethod\n",
    "    def area(self):\n",
    "        pass\n",
    "\n",
    "class Rectangle(Shape):\n",
    "    def __init__(self, length, breadth):\n",
    "        Shape.__init__(self, 'Rectangle')\n",
    "        self.length = length\n",
    "        self.breadth = breadth\n",
    "\n",
    "    def area(self):\n",
    "        return self.length*self.breadth\n",
    "\n",
    "class Circle(Shape):\n",
    "    def __init__(self, radius):\n",
    "        Shape.__init__(self, 'Circle')\n",
    "        self.radius = radius\n",
    "\n",
    "    def area(self):\n",
    "        return round((math.pi)*(self.radius**2),3)\n",
    "\n",
    "class Square(Shape):\n",
    "    def __init__(self, side):\n",
    "        Shape.__init__(self, 'Square')\n",
    "        self.side = side\n",
    "\n",
    "    def area(self):\n",
    "        return self.side*self.side\n",
    "\n",
    "sq = Square(10)\n",
    "print(\"Area of square is\", sq.area())\n",
    "rect = Rectangle(10,11)\n",
    "print(\"Area of rectangle is\", rect.area())\n",
    "circ= Circle(10)\n",
    "print(\"Area of circle is\", circ.area())"
   ]
  },
  {
   "cell_type": "markdown",
   "id": "add2baaa",
   "metadata": {},
   "source": [
    "Assume that there a class Car with model number as its member variable. Write a python\n",
    "program to swap the values of model number in Car objects c1 and c2."
   ]
  },
  {
   "cell_type": "code",
   "execution_count": 20,
   "id": "f4c4e212",
   "metadata": {},
   "outputs": [
    {
     "name": "stdout",
     "output_type": "stream",
     "text": [
      "Before: Car 1 number is: 5YJDSA1DG49 and Car2 number is: 4S3BMHB68C3\n",
      "After : Car 1 number is: 4S3BMHB68C3 and Car2 number is: 5YJDSA1DG49\n"
     ]
    }
   ],
   "source": [
    "class Car:\n",
    "    def __init__(self, number):\n",
    "        self.number = number\n",
    "    \n",
    "    def set_number(self, num):\n",
    "        self.number = num\n",
    "\n",
    "def swap_number(a, b):\n",
    "    temp = a.number \n",
    "    a.set_number(b.number)\n",
    "    b.set_number(temp)\n",
    "\n",
    "c1 = Car(\"5YJDSA1DG49\")\n",
    "c2 = Car(\"4S3BMHB68C3\")\n",
    "print(\"Before: Car 1 model number is: {0} and Car2 model number is: {1}\".format(c1.number, c2.number))\n",
    "swap_number(c1, c2)\n",
    "print(\"After : Car 1 model  number is: {0} and Car2 model number is: {1}\".format(c1.number, c2.number))\n"
   ]
  },
  {
   "cell_type": "markdown",
   "id": "93a23b80",
   "metadata": {},
   "source": [
    "The family has decided to travel by road from Dharwad to Belagavi, and they have\n",
    "chosen to estimate the cost before starting on this journey. Write python code to create\n",
    "the parent class Travel with member functions include the number of passengers, the\n",
    "distance travelled, and the mode of transportation. Derive two subclasses, train and bus,\n",
    "from the parent class, each with a member function that calculates the cost of trip. Also,\n",
    "keep the numbers of passengers as a private member of the parent class and try to access\n",
    "it through the child class to estimate costs.\n",
    "[Note: Assume cost of travelling/person through train = 60 rs, cost of travelling /person\n",
    "through bus= 100 rs]."
   ]
  },
  {
   "cell_type": "code",
   "execution_count": 28,
   "id": "7aa1f6d7",
   "metadata": {},
   "outputs": [
    {
     "name": "stdout",
     "output_type": "stream",
     "text": [
      "Cost for traveling by train is 6000\n",
      "Cost for traveling by bus is 4000\n"
     ]
    }
   ],
   "source": [
    "from abc import ABC, abstractmethod\n",
    "class Travel(ABC):\n",
    "    def __init__(self, num, distance, mode):\n",
    "        self.__num = num\n",
    "        self.distance = distance\n",
    "        self.mode = mode\n",
    "\n",
    "    @abstractmethod\n",
    "    def cost(self):\n",
    "        pass\n",
    "\n",
    "    #we are doing name mangling in subclass to access the private variable num from Travel class\n",
    "class Bus(Travel):\n",
    "    def __init__(self, num, distance):\n",
    "        Travel.__init__(self, num, distance, 'Bus')\n",
    "\n",
    "    def cost(self):\n",
    "        cost_per_person=1000\n",
    "        return cost_per_person*self._Travel__num                    \n",
    "\n",
    "class Train(Travel):\n",
    "    def __init__(self, num, distance):\n",
    "        Travel.__init__(self, num, distance, 'Train')\n",
    "\n",
    "    def cost(self):\n",
    "        cost_per_person=1500\n",
    "        return cost_per_person*self._Travel__num\n",
    "\n",
    "dharwad_to_belagavi = 100                \n",
    "train = Train(4, dharwad_to_belagavi)\n",
    "print(\"Cost for traveling by train is\", train.cost())\n",
    "bus = Bus(4, dharwad_to_belagavi)\n",
    "print(\"Cost for traveling by bus is\", bus.cost())"
   ]
  }
 ],
 "metadata": {
  "kernelspec": {
   "display_name": "Python 3",
   "language": "python",
   "name": "python3"
  },
  "language_info": {
   "codemirror_mode": {
    "name": "ipython",
    "version": 3
   },
   "file_extension": ".py",
   "mimetype": "text/x-python",
   "name": "python",
   "nbconvert_exporter": "python",
   "pygments_lexer": "ipython3",
   "version": "3.8.8"
  }
 },
 "nbformat": 4,
 "nbformat_minor": 5
}
