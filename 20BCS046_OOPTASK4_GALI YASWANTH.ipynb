{
 "cells": [
  {
   "cell_type": "markdown",
   "id": "f233bfb2",
   "metadata": {},
   "source": [
    "1.) Write a python code to calculate the area of a rectangle using parametrized and default constructors.\n"
   ]
  },
  {
   "cell_type": "code",
   "execution_count": 27,
   "id": "7aed01a4",
   "metadata": {},
   "outputs": [
    {
     "name": "stdout",
     "output_type": "stream",
     "text": [
      "The Area of rectangle is 200\n"
     ]
    }
   ],
   "source": [
    "class Rectangle:\n",
    "    #parameterized constructor taking length and breadth as input\n",
    "    def __init__(self,length,breadth):\n",
    "        self.a=length\n",
    "        self.b=breadth\n",
    "        \n",
    "    def area(self):\n",
    "        return self.a*self.b\n",
    "    \n",
    "    \n",
    "obj=Rectangle(10,20)\n",
    "print(\"The Area of rectangle is\",obj.area())\n",
    "        "
   ]
  },
  {
   "cell_type": "code",
   "execution_count": 26,
   "id": "36152384",
   "metadata": {},
   "outputs": [
    {
     "name": "stdout",
     "output_type": "stream",
     "text": [
      "Enter the length:3\n",
      "Enter the breadth:4\n",
      "The Area of rectangle is 12\n"
     ]
    }
   ],
   "source": [
    "class Rectangle:\n",
    "    \n",
    "    a=int(input(\"Enter the length:\"))\n",
    "    b=int(input(\"Enter the breadth:\"))\n",
    "    \n",
    "    #using the default constructor which doesn't take any arguments\n",
    "    def __init__(self):\n",
    "        pass\n",
    "        \n",
    "    def area(self):\n",
    "        return self.a*self.b\n",
    "    \n",
    "    \n",
    "obj=Rectangle()\n",
    "print(\"The Area of rectangle is\",obj.area())"
   ]
  },
  {
   "cell_type": "markdown",
   "id": "3cb83fea",
   "metadata": {},
   "source": [
    "2.)Write a python program to implement queue operations using constructors and destructors."
   ]
  },
  {
   "cell_type": "code",
   "execution_count": 24,
   "id": "f88c07c0",
   "metadata": {},
   "outputs": [
    {
     "name": "stdout",
     "output_type": "stream",
     "text": [
      "The elements in queue are  [3, 4]\n",
      "Destructor called Queue deleted\n"
     ]
    }
   ],
   "source": [
    "class Queue:\n",
    "    def __init__(self):\n",
    "        self.items = []\n",
    "\n",
    "    def isEmpty(self):\n",
    "        return self.items == []\n",
    "\n",
    "    def enqueue(self, item):\n",
    "        self.items.insert(0,item)\n",
    "\n",
    "    def dequeue(self):\n",
    "        return self.items.pop()\n",
    "\n",
    "    def size(self):\n",
    "        return len(self.items)\n",
    "    \n",
    "    def display(self):\n",
    "        return self.items\n",
    "    \n",
    "    def __del__(self):\n",
    "        print('Destructor called Queue deleted')\n",
    "    \n",
    "    \n",
    "q=Queue()\n",
    "q.enqueue(2)\n",
    "q.enqueue(4)\n",
    "q.enqueue(3)\n",
    "q.dequeue()\n",
    "print(\"The elements in queue are \",q.display())\n",
    "del q"
   ]
  },
  {
   "cell_type": "markdown",
   "id": "3d40a22d",
   "metadata": {},
   "source": [
    "3.) Write a python code to create a class node with data and address of next node as parameters. Derive stack class from node class with top position or head node position as a parameter and also perform the following operations.\n",
    "\n",
    " 1.)Check stack is empty\n",
    " 2.)Add data to stack\n",
    " 3.)Delete data from the stack.\n",
    " 4.)Display the elements of the stack.\n",
    " 5.)Deallocate the memory assigned to each node using destructors.\n"
   ]
  },
  {
   "cell_type": "code",
   "execution_count": 22,
   "id": "bccce956",
   "metadata": {},
   "outputs": [],
   "source": [
    "class Node:\n",
    "    def __init__(self, data):\n",
    "       self.data = data\n",
    "       self.next = None\n",
    "        \n",
    "    #deleting the node which will be popped    \n",
    "    def __del__(self):\n",
    "        print(\"Number deleted from stack is \",self.data)\n",
    " \n",
    "\n",
    "class Stack:\n",
    "    def __init__(self):\n",
    "        self.head = None\n",
    "        self.size=0\n",
    " \n",
    "    #Function to push the value into stack\n",
    "    def push(self, data):\n",
    "        if self.head is None:\n",
    "            self.head = Node(data)\n",
    "        else:\n",
    "            new_node = Node(data)\n",
    "            new_node.next = self.head\n",
    "            self.head = new_node\n",
    "            self.size=self.size+1\n",
    " \n",
    "  #Function to pop the value into stack \n",
    "    def pop(self):\n",
    "        if self.head is None:\n",
    "            return None\n",
    "        else:\n",
    "            popped = self.head.data\n",
    "            self.head = self.head.next\n",
    "            self.size=self.size-1\n",
    "            del popped\n",
    "     #function to check whether the stack is empty or not       \n",
    "    def empty(self):\n",
    "        if self.size == 0:\n",
    "            print(\"Stack is empty\")\n",
    "        else:\n",
    "            print(\"Stack is not empty\")\n",
    "            \n",
    "     #function to display the  elements in stack      \n",
    "    def display(self):\n",
    "        for i in range(self.size):\n",
    "            print(self.head.data)\n",
    "            self.head = self.head.next\n",
    "        \n",
    "    def __del__(self):\n",
    "        print('Destructor called stack deleted')\n",
    "        \n"
   ]
  }
 ],
 "metadata": {
  "kernelspec": {
   "display_name": "Python 3",
   "language": "python",
   "name": "python3"
  },
  "language_info": {
   "codemirror_mode": {
    "name": "ipython",
    "version": 3
   },
   "file_extension": ".py",
   "mimetype": "text/x-python",
   "name": "python",
   "nbconvert_exporter": "python",
   "pygments_lexer": "ipython3",
   "version": "3.8.8"
  }
 },
 "nbformat": 4,
 "nbformat_minor": 5
}
